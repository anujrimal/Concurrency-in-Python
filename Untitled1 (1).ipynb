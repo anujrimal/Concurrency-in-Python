{
 "cells": [
  {
   "cell_type": "code",
   "execution_count": 15,
   "id": "628cfd0d-b4f3-4d8f-bd45-35f2b445320b",
   "metadata": {},
   "outputs": [],
   "source": [
    "import datetime\n",
    "\n",
    "# 13.1 Write the current date as a string to the text file today.txt\n",
    "with open(\"today.txt\", \"w\") as file:\n",
    "    file.write(datetime.datetime.today().strftime('%Y-%m-%d'))"
   ]
  },
  {
   "cell_type": "code",
   "execution_count": 16,
   "id": "8dd719d8-8d15-4020-89be-c9c1254d7850",
   "metadata": {},
   "outputs": [],
   "source": [
    "import datetime\n",
    "with open(\"today.txt\", \"r\") as file:\n",
    "    today_string = file.read()"
   ]
  },
  {
   "cell_type": "code",
   "execution_count": 17,
   "id": "953114f6-948a-4619-aed2-d052891532b8",
   "metadata": {},
   "outputs": [
    {
     "name": "stdout",
     "output_type": "stream",
     "text": [
      "Today's date: 2024-04-26 00:00:00\n"
     ]
    }
   ],
   "source": [
    "parsed_date = datetime.datetime.strptime(today_string, '%Y-%m-%d')\n",
    "\n",
    "print(\"Today's date:\", parsed_date)\n"
   ]
  },
  {
   "cell_type": "code",
   "execution_count": 18,
   "id": "6ba521de-d0fc-4bc0-b9b2-77680a3fc076",
   "metadata": {},
   "outputs": [],
   "source": [
    "import multiprocessing\n",
    "import time\n",
    "import random\n",
    "from datetime import datetime\n",
    "\n",
    "def worker():\n",
    "    # Generate a random wait time between 0 and 1 second\n",
    "    wait_time = random.random()\n",
    "    time.sleep(wait_time)\n",
    "    # Print the current time after waiting\n",
    "    print(f\"Process {multiprocessing.current_process().name} - Current time: {datetime.now()}\")\n",
    "\n",
    "if __name__ == \"__main__\":\n",
    "    # Create three separate processes\n",
    "    processes = []\n",
    "    for i in range(3):\n",
    "        p = multiprocessing.Process(target=worker, name=f\"Process-{i+1}\")\n",
    "        processes.append(p)\n",
    "        p.start()\n",
    "\n",
    "    # Wait for all processes to finish\n",
    "    for p in processes:\n",
    "        p.join()"
   ]
  }
 ],
 "metadata": {
  "kernelspec": {
   "display_name": "Python 3 (ipykernel)",
   "language": "python",
   "name": "python3"
  },
  "language_info": {
   "codemirror_mode": {
    "name": "ipython",
    "version": 3
   },
   "file_extension": ".py",
   "mimetype": "text/x-python",
   "name": "python",
   "nbconvert_exporter": "python",
   "pygments_lexer": "ipython3",
   "version": "3.11.7"
  }
 },
 "nbformat": 4,
 "nbformat_minor": 5
}
